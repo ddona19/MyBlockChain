{
 "cells": [
  {
   "cell_type": "markdown",
   "id": "06ab5d13-36d4-4b3d-a1c9-e9b953084cd6",
   "metadata": {},
   "source": [
    "# Integrated Labs Assignment: Simple Blockchain Implementation"
   ]
  },
  {
   "cell_type": "code",
   "execution_count": 1,
   "id": "7e883a3f-6fd0-4dfd-b38d-d55661b72d90",
   "metadata": {},
   "outputs": [],
   "source": [
    "import hashlib\n",
    "import datetime"
   ]
  },
  {
   "cell_type": "code",
   "execution_count": 2,
   "id": "dc4bb3d5-7bf1-4c2e-9fea-1ef8562fa5c3",
   "metadata": {},
   "outputs": [],
   "source": [
    "class Block:\n",
    "    def __init__(self, previous_block_hash, data, timestamp):\n",
    "        self.previous_block_hash = previous_block_hash\n",
    "        self.data = data\n",
    "        self.timestamp = timestamp\n",
    "        self.hash = self.get_hash()\n",
    "\n",
    "    def create_genesis_block():\n",
    "        return Block(\"0\", \"0\", datetime.datetime.now())\n",
    "\n",
    "    def get_hash(self):\n",
    "        header_bin = (str(self.previous_block_hash) + str(self.data) + str(self.timestamp)).encode()\n",
    "\n",
    "        inner_hash = hashlib.sha256(header_bin).hexdigest().encode()\n",
    "        outer_hash = hashlib.sha256(inner_hash).hexdigest()\n",
    "        return outer_hash"
   ]
  },
  {
   "cell_type": "code",
   "execution_count": 3,
   "id": "5f5008db-a42e-41d5-87cd-fda2b817b188",
   "metadata": {},
   "outputs": [
    {
     "data": {
      "text/plain": [
       "'40abc539382994f97d6efcde814ab8f63c2987172cb37b37ea1879f5d34c1d0b'"
      ]
     },
     "execution_count": 3,
     "metadata": {},
     "output_type": "execute_result"
    }
   ],
   "source": [
    "b1 = Block.create_genesis_block()\n",
    "b1.hash\n",
    "print(\"Hello\")"
   ]
  }
 ],
 "metadata": {
  "kernelspec": {
   "display_name": "Python 3 (ipykernel)",
   "language": "python",
   "name": "python3"
  },
  "language_info": {
   "codemirror_mode": {
    "name": "ipython",
    "version": 3
   },
   "file_extension": ".py",
   "mimetype": "text/x-python",
   "name": "python",
   "nbconvert_exporter": "python",
   "pygments_lexer": "ipython3",
   "version": "3.11.4"
  }
 },
 "nbformat": 4,
 "nbformat_minor": 5
}
