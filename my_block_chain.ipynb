{
 "cells": [
  {
   "cell_type": "markdown",
   "id": "06ab5d13-36d4-4b3d-a1c9-e9b953084cd6",
   "metadata": {},
   "source": [
    "# Integrated Labs Assignment: Simple Blockchain Implementation"
   ]
  },
  {
   "cell_type": "code",
   "execution_count": 1,
   "id": "7e883a3f-6fd0-4dfd-b38d-d55661b72d90",
   "metadata": {},
   "outputs": [],
   "source": [
    "import hashlib\n",
    "import datetime"
   ]
  },
  {
   "cell_type": "code",
   "execution_count": 2,
   "id": "dc4bb3d5-7bf1-4c2e-9fea-1ef8562fa5c3",
   "metadata": {},
   "outputs": [],
   "source": [
    "import hashlib\n",
    "import datetime\n",
    "\n",
    "class Block:\n",
    "    def __init__(self, previous_block_hash, data, timestamp, difficulty=4):\n",
    "        self.previous_block_hash = previous_block_hash\n",
    "        self.data = data\n",
    "        self.timestamp = timestamp\n",
    "        self.nonce = 0\n",
    "        self.difficulty = difficulty\n",
    "        self.hash = self.proof_of_work()\n",
    "\n",
    "    @staticmethod\n",
    "    def create_genesis_block():\n",
    "        return Block(\"0\", \"Genesis Block\", datetime.datetime.now())\n",
    "\n",
    "    def get_hash(self):\n",
    "        header_bin = (str(self.previous_block_hash) + str(self.data) + \n",
    "                      str(self.timestamp) + str(self.nonce)).encode()\n",
    "        return hashlib.sha256(header_bin).hexdigest()\n",
    "\n",
    "    def proof_of_work(self):\n",
    "        target = \"0\" * self.difficulty\n",
    "        while True:\n",
    "            self.hash = self.get_hash()\n",
    "            if self.hash.startswith(target):\n",
    "                break\n",
    "            self.nonce += 1\n",
    "        return self.hash"
   ]
  },
  {
   "cell_type": "code",
   "execution_count": 3,
   "id": "5f5008db-a42e-41d5-87cd-fda2b817b188",
   "metadata": {},
   "outputs": [
    {
     "data": {
      "text/plain": [
       "'0000ab8cdd941915f8e39a47d2b13302959c72d6238c99d993e71355d9befc7c'"
      ]
     },
     "execution_count": 3,
     "metadata": {},
     "output_type": "execute_result"
    }
   ],
   "source": [
    "b1 = Block.create_genesis_block()\n",
    "b1.hash"
   ]
  },
  {
   "cell_type": "code",
   "execution_count": 4,
   "id": "f67648fa-fd42-40c7-879c-c8fc47869db1",
   "metadata": {},
   "outputs": [
    {
     "name": "stdout",
     "output_type": "stream",
     "text": [
      "The Genesis Block has been created\n",
      "Hash: 000078ad64fabd06856e0412ed1cee2af90a0961d0046cb885f54a3aa6e6dbce\n"
     ]
    }
   ],
   "source": [
    "block_chain = [Block.create_genesis_block()]\n",
    "\n",
    "print(\"The Genesis Block has been created\")\n",
    "print(\"Hash: %s\" % block_chain[-1].hash)"
   ]
  },
  {
   "cell_type": "code",
   "execution_count": 5,
   "id": "40f6b251-92d1-4618-aef3-01150d267fab",
   "metadata": {},
   "outputs": [
    {
     "name": "stdout",
     "output_type": "stream",
     "text": [
      "Block #1 has been created.\n",
      "Block #1 hash: 000056851ea82f53c5e16645830d9f82cd995dd9093cae48e0dd2c8214f7d355\n",
      "Block #2 has been created.\n",
      "Block #2 hash: 000004b6edea77254df9d4fc6af725b9d56a578d125e54cd1737c7fd288f0f83\n",
      "Block #3 has been created.\n",
      "Block #3 hash: 0000be2159c8d3e12b713b030b8fa5887fc297a4c8804f8690d15d80d5c1ad59\n",
      "Block #4 has been created.\n",
      "Block #4 hash: 0000d0c4d02c269856d1ebd1b13bd789beabbd1e04cd4ae156ceab58f0073636\n",
      "Block #5 has been created.\n",
      "Block #5 hash: 000080f8c3d94966c4aa502bde8b096a83e0040687e8b159d18b6ed9f438860f\n"
     ]
    }
   ],
   "source": [
    "#Adding 5 blocks\n",
    "\n",
    "num_blocks_to_add = 5\n",
    "\n",
    "for i in range(1, num_blocks_to_add+1):\n",
    "    block_chain.append(Block(block_chain[-1].hash, \"DATA!\", datetime.datetime.now()))\n",
    "\n",
    "    print(\"Block #%d has been created.\" % i)\n",
    "    print(\"Block #%d hash: %s\" % (i, block_chain[i].hash))"
   ]
  },
  {
   "cell_type": "code",
   "execution_count": 10,
   "id": "f475eaa0-8a4f-479a-bc7f-a7b91e3aa3de",
   "metadata": {},
   "outputs": [],
   "source": [
    "class Blockchain:\n",
    "    def __init__(self, chain=None, difficulty=4):\n",
    "        self.difficulty = difficulty\n",
    "        if chain is None or len(chain) == 0:\n",
    "            self.chain = [Block.create_genesis_block()]\n",
    "        else:\n",
    "            self.chain = chain\n",
    "\n",
    "    def add_block(self, data):\n",
    "        last_block = self.chain[-1]\n",
    "        new_block = Block(last_block.hash, data, datetime.datetime.now(), self.difficulty)\n",
    "        self.chain.append(new_block)\n",
    "\n",
    "    def validate_chain(self):\n",
    "        for i in range(1, len(self.chain)):\n",
    "            current_block = self.chain[i]\n",
    "            previous_block = self.chain[i - 1]\n",
    "\n",
    "            if current_block.hash != current_block.get_hash():\n",
    "                print(f\"Block {i} has been tampered with!\")\n",
    "                return False\n",
    "\n",
    "            if current_block.previous_block_hash != previous_block.hash:\n",
    "                print(f\"Block {i} has an invalid previous block hash!\")\n",
    "                return False\n",
    "\n",
    "            if not current_block.hash.startswith(\"0\" * self.difficulty):\n",
    "                print(f\"Block {i} does not satisfy Proof of Work!\")\n",
    "                return False\n",
    "\n",
    "            short_hash = current_block.hash[:3]\n",
    "            print(f\"Block {i}\")\n",
    "\n",
    "        return True"
   ]
  },
  {
   "cell_type": "code",
   "execution_count": 11,
   "id": "637dfe39-40c2-40fd-8219-e7b805622e88",
   "metadata": {},
   "outputs": [
    {
     "name": "stdout",
     "output_type": "stream",
     "text": [
      "Block 1\n",
      "Block 2\n",
      "Block 3\n",
      "Block 4\n",
      "Block 5\n",
      "The blockchain is valid!\n"
     ]
    }
   ],
   "source": [
    "my_blockchain = Blockchain(chain=block_chain)\n",
    "\n",
    "is_valid = my_blockchain.validate_chain()\n",
    "\n",
    "if is_valid:\n",
    "    print(\"The blockchain is valid!\")\n",
    "else:\n",
    "    print(\"The blockchain is invalid!\")"
   ]
  },
  {
   "cell_type": "code",
   "execution_count": null,
   "id": "a0fd1e98-c0c5-461e-8d59-b7543644d831",
   "metadata": {},
   "outputs": [],
   "source": []
  }
 ],
 "metadata": {
  "kernelspec": {
   "display_name": "Python 3 (ipykernel)",
   "language": "python",
   "name": "python3"
  },
  "language_info": {
   "codemirror_mode": {
    "name": "ipython",
    "version": 3
   },
   "file_extension": ".py",
   "mimetype": "text/x-python",
   "name": "python",
   "nbconvert_exporter": "python",
   "pygments_lexer": "ipython3",
   "version": "3.11.4"
  }
 },
 "nbformat": 4,
 "nbformat_minor": 5
}
