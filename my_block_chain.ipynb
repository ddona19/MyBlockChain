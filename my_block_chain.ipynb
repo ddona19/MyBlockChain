{
 "cells": [
  {
   "cell_type": "markdown",
   "id": "06ab5d13-36d4-4b3d-a1c9-e9b953084cd6",
   "metadata": {},
   "source": [
    "# Integrated Labs Assignment: Simple Blockchain Implementation"
   ]
  },
  {
   "cell_type": "code",
   "execution_count": 1,
   "id": "7e883a3f-6fd0-4dfd-b38d-d55661b72d90",
   "metadata": {},
   "outputs": [],
   "source": [
    "import hashlib\n",
    "import datetime"
   ]
  },
  {
   "cell_type": "code",
   "execution_count": 2,
   "id": "dc4bb3d5-7bf1-4c2e-9fea-1ef8562fa5c3",
   "metadata": {},
   "outputs": [],
   "source": [
    "class Block:\n",
    "    def __init__(self, previous_block_hash, data, timestamp):\n",
    "        self.previous_block_hash = previous_block_hash\n",
    "        self.data = data\n",
    "        self.timestamp = timestamp\n",
    "        self.hash = self.get_hash()\n",
    "\n",
    "    @staticmethod\n",
    "    def create_genesis_block():\n",
    "        return Block(\"0\", \"0\", datetime.datetime.now())\n",
    "\n",
    "    def get_hash(self):\n",
    "        header_bin = (str(self.previous_block_hash) + str(self.data) + str(self.timestamp)).encode()\n",
    "\n",
    "        inner_hash = hashlib.sha256(header_bin).hexdigest().encode()\n",
    "        outer_hash = hashlib.sha256(inner_hash).hexdigest()\n",
    "        return outer_hash"
   ]
  },
  {
   "cell_type": "code",
   "execution_count": 3,
   "id": "5f5008db-a42e-41d5-87cd-fda2b817b188",
   "metadata": {},
   "outputs": [
    {
     "data": {
      "text/plain": [
       "'9a9af029d45dff6d7a4cb3063795f36e48038626c968148ab4d5506ce8cf9fbd'"
      ]
     },
     "execution_count": 3,
     "metadata": {},
     "output_type": "execute_result"
    }
   ],
   "source": [
    "b1 = Block.create_genesis_block()\n",
    "b1.hash"
   ]
  },
  {
   "cell_type": "code",
   "execution_count": 4,
   "id": "f67648fa-fd42-40c7-879c-c8fc47869db1",
   "metadata": {},
   "outputs": [
    {
     "name": "stdout",
     "output_type": "stream",
     "text": [
      "The Genesis Block has been created\n",
      "Hash: 9f67619eee2cccd7ce0fa9223b41ddabf37b3c4af5934ac2e6a5ae555b7f893b\n"
     ]
    }
   ],
   "source": [
    "block_chain = [Block.create_genesis_block()]\n",
    "\n",
    "print(\"The Genesis Block has been created\")\n",
    "print(\"Hash: %s\" % block_chain[-1].hash)"
   ]
  },
  {
   "cell_type": "code",
   "execution_count": 5,
   "id": "40f6b251-92d1-4618-aef3-01150d267fab",
   "metadata": {},
   "outputs": [
    {
     "name": "stdout",
     "output_type": "stream",
     "text": [
      "Block #1 has been created.\n",
      "Block #1 hash: a8f25c263cc6b75671ff0f0db1bb7243e56475974f53a9994d57206ad327e3b9\n",
      "Block #2 has been created.\n",
      "Block #2 hash: 7db2f84a311eed29b36b3c89fde548828073d1c9aa4777548c506853bfe76104\n",
      "Block #3 has been created.\n",
      "Block #3 hash: f1538a312e92e80f794262c34d5f509d6824213cfee82443c8ac86b111bcfc54\n",
      "Block #4 has been created.\n",
      "Block #4 hash: c7fe548f4129a9156c5c5754226bad7e986e0269585082026fa0ff3966561b50\n",
      "Block #5 has been created.\n",
      "Block #5 hash: 132c66c410254117519d9327cff48a1a01cfd423295ca89e16f42ee155c5af5b\n"
     ]
    }
   ],
   "source": [
    "#Adding 5 blocks\n",
    "\n",
    "num_blocks_to_add = 5\n",
    "\n",
    "for i in range(1, num_blocks_to_add+1):\n",
    "    block_chain.append(Block(block_chain[-1].hash, \"DATA!\", datetime.datetime.now()))\n",
    "\n",
    "    print(\"Block #%d has been created.\" % i)\n",
    "    print(\"Block #%d hash: %s\" % (i, block_chain[i].hash))"
   ]
  },
  {
   "cell_type": "code",
   "execution_count": 6,
   "id": "f475eaa0-8a4f-479a-bc7f-a7b91e3aa3de",
   "metadata": {},
   "outputs": [],
   "source": [
    "class Blockchain:\n",
    "    def __init__(self, chain=None):\n",
    "        if chain is None:\n",
    "            self.chain = [Block.create_genesis_block()]\n",
    "        else:\n",
    "            self.chain = chain\n",
    "\n",
    "    def add_block(self, data):\n",
    "        last_block = self.chain[-1]\n",
    "        new_block = Block(last_block.hash, data, datetime.datetime.now())\n",
    "        self.chain.append(new_block)\n",
    "\n",
    "    def validate_chain(self):\n",
    "        for i in range(1, len(self.chain)):\n",
    "            current_block = self.chain[i]\n",
    "            previous_block = self.chain[i - 1]\n",
    "            \n",
    "            if current_block.hash != current_block.get_hash():\n",
    "                print(f\"Block {i} has been tampered with!\")\n",
    "                return False\n",
    "            \n",
    "            if current_block.previous_block_hash != previous_block.hash:\n",
    "                print(f\"Block {i} has an invalid previous block hash!\")\n",
    "                return False\n",
    "\n",
    "            short_hash = current_block.hash[:3]\n",
    "            \n",
    "            print(f\"Block {i} (Hash: {short_hash}...) is a valid block\")\n",
    "        \n",
    "        return True"
   ]
  },
  {
   "cell_type": "code",
   "execution_count": 9,
   "id": "637dfe39-40c2-40fd-8219-e7b805622e88",
   "metadata": {},
   "outputs": [
    {
     "name": "stdout",
     "output_type": "stream",
     "text": [
      "Block 1 (Hash: a8f...) is a valid block\n",
      "Block 2 (Hash: 7db...) is a valid block\n",
      "Block 3 (Hash: f15...) is a valid block\n",
      "Block 4 (Hash: c7f...) is a valid block\n",
      "Block 5 (Hash: 132...) is a valid block\n",
      "The blockchain is valid!\n"
     ]
    }
   ],
   "source": [
    "my_blockchain = Blockchain(chain=block_chain)\n",
    "\n",
    "is_valid = my_blockchain.validate_chain()\n",
    "\n",
    "if is_valid:\n",
    "    print(\"The blockchain is valid!\")\n",
    "else:\n",
    "    print(\"The blockchain is invalid!\")\n"
   ]
  }
 ],
 "metadata": {
  "kernelspec": {
   "display_name": "Python 3 (ipykernel)",
   "language": "python",
   "name": "python3"
  },
  "language_info": {
   "codemirror_mode": {
    "name": "ipython",
    "version": 3
   },
   "file_extension": ".py",
   "mimetype": "text/x-python",
   "name": "python",
   "nbconvert_exporter": "python",
   "pygments_lexer": "ipython3",
   "version": "3.11.4"
  }
 },
 "nbformat": 4,
 "nbformat_minor": 5
}
