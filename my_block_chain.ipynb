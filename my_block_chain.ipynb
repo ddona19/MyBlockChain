{
 "cells": [
  {
   "cell_type": "markdown",
   "id": "06ab5d13-36d4-4b3d-a1c9-e9b953084cd6",
   "metadata": {},
   "source": [
    "# Integrated Labs Assignment: Simple Blockchain Implementation"
   ]
  },
  {
   "cell_type": "markdown",
   "id": "a875b71a-3f02-40f2-8571-ef43a3fd3d19",
   "metadata": {},
   "source": [
    "This block will have the imported libraries. I will use hashlib and datetime, both for hashing of the blockchain"
   ]
  },
  {
   "cell_type": "code",
   "execution_count": 1,
   "id": "7e883a3f-6fd0-4dfd-b38d-d55661b72d90",
   "metadata": {},
   "outputs": [],
   "source": [
    "import hashlib\n",
    "import datetime"
   ]
  },
  {
   "cell_type": "markdown",
   "id": "73ab620c-b008-45aa-937e-8f2fdf92360f",
   "metadata": {},
   "source": [
    "This block is responsible for creating a single block itself, it first has the initialising method, taking 3 arguments initially, the hash for the previous block, the data the block has, and the timestamp. For the proof of concept we added nonce and difficulty. I used a static method to generate the genesis block, the reason it's a static method is because I will only call it once to create the genesis block, after that it's no longer needed."
   ]
  },
  {
   "cell_type": "code",
   "execution_count": 2,
   "id": "dc4bb3d5-7bf1-4c2e-9fea-1ef8562fa5c3",
   "metadata": {},
   "outputs": [],
   "source": [
    "class Block:\n",
    "    def __init__(self, previous_block_hash, data, timestamp, difficulty=4):\n",
    "        self.previous_block_hash = previous_block_hash\n",
    "        self.data = data\n",
    "        self.timestamp = timestamp\n",
    "        self.nonce = 0\n",
    "        self.difficulty = difficulty\n",
    "        self.hash = self.proof_of_work()\n",
    "\n",
    "    #This method creates the genesis block, the first block in the block chain.\n",
    "    #I used static method because we'll only need to call it once\n",
    "    @staticmethod\n",
    "    def create_genesis_block():\n",
    "        return Block(\"0\", \"Genesis Block\", datetime.datetime.now())\n",
    "\n",
    "    #Method that will handle hashing the blocks\n",
    "    def get_hash(self):\n",
    "        #each variable of a block is joined together as a string\n",
    "        header_bin = (str(self.previous_block_hash) + str(self.data) + \n",
    "                      str(self.timestamp) + str(self.nonce)).encode()\n",
    "        return hashlib.sha256(header_bin).hexdigest() #then this is hashed in SHA-256 format\n",
    "\n",
    "    #Proof of work handling, this ensures the hash for every block starts with the set difficulty\n",
    "    def proof_of_work(self):\n",
    "        target = \"0\" * self.difficulty #For this simple example I picked 0 for the set difficulty, any block whoose hash doesn't start with 4 zero's is considered invalid\n",
    "        while True:\n",
    "            self.hash = self.get_hash() #Takes the actual hash\n",
    "            if self.hash.startswith(target): #checks if the hash starts with said target (0 in this case)\n",
    "                break # If it's found, it stops the loop\n",
    "            self.nonce += 1 #increments nonce for a new hash\n",
    "        return self.hash #returns the hash"
   ]
  },
  {
   "cell_type": "markdown",
   "id": "7ca77e1c-9eb9-4d99-930b-be15dee1b34c",
   "metadata": {},
   "source": [
    "This block is purely for generating the genesis block it calls the method in the Block class and creates the genesis block"
   ]
  },
  {
   "cell_type": "code",
   "execution_count": 3,
   "id": "f67648fa-fd42-40c7-879c-c8fc47869db1",
   "metadata": {},
   "outputs": [
    {
     "name": "stdout",
     "output_type": "stream",
     "text": [
      "The Genesis Block has been created\n",
      "Hash: 0000e16b52154bf3361c4f0d5fdec245970fdeb74f964c35b90e82c88dd4f1a5\n"
     ]
    }
   ],
   "source": [
    "block_chain = [Block.create_genesis_block()]\n",
    "\n",
    "print(\"The Genesis Block has been created\")\n",
    "print(\"Hash: %s\" % block_chain[-1].hash)"
   ]
  },
  {
   "cell_type": "markdown",
   "id": "abe9fabe-7aaf-4af7-b9bd-a4ebf42472e7",
   "metadata": {},
   "source": [
    "This block is for bulk adding however many blocks we want."
   ]
  },
  {
   "cell_type": "code",
   "execution_count": 4,
   "id": "40f6b251-92d1-4618-aef3-01150d267fab",
   "metadata": {},
   "outputs": [
    {
     "name": "stdout",
     "output_type": "stream",
     "text": [
      "Block #1 has been created.\n",
      "Block #1 hash: 00004e907f16a62fcb8f6d448f034c35bb2f96957058e3a5a6bbfd24b912c248\n",
      "Block #2 has been created.\n",
      "Block #2 hash: 0000d481660f6779d8a30c715c15e5e30a8753e1843a97bc19823c8bab26fe99\n",
      "Block #3 has been created.\n",
      "Block #3 hash: 00002b8af12e6baa84f593b7ebf40f72f90419e938343de24d690baa5ed69697\n",
      "Block #4 has been created.\n",
      "Block #4 hash: 0000112be2ba72976c6726599cf5dd1c9a55f21ea87414941224a262becb24ca\n",
      "Block #5 has been created.\n",
      "Block #5 hash: 00002f5001c4f1880fb60d7aa41aea0b5a6cfdbecf8301542714638c8806cca0\n"
     ]
    }
   ],
   "source": [
    "num_blocks_to_add = 5 #Variable that represents hwoever many blocks we wish to add, I want to add 5\n",
    "\n",
    "#For loop that will handle bulk adding\n",
    "for i in range(1, num_blocks_to_add+1):\n",
    "    block_chain.append(Block(block_chain[-1].hash, \"DATA!\", datetime.datetime.now())) #each iteration add a block\n",
    "\n",
    "    #Simple bug fixing print statements\n",
    "    print(\"Block #%d has been created.\" % i)\n",
    "    print(\"Block #%d hash: %s\" % (i, block_chain[i].hash))"
   ]
  },
  {
   "cell_type": "markdown",
   "id": "535b43b0-f538-4082-ad11-f01fb8d2412a",
   "metadata": {},
   "source": [
    "This block holds the class for blockchain, this code's main function is the validate_chain method whoose purpose is to chech through the whole list to validate it's integrity."
   ]
  },
  {
   "cell_type": "code",
   "execution_count": 5,
   "id": "f475eaa0-8a4f-479a-bc7f-a7b91e3aa3de",
   "metadata": {},
   "outputs": [],
   "source": [
    "class Blockchain:\n",
    "    def __init__(self, chain=None, difficulty=4):\n",
    "        self.difficulty = difficulty #Setting the difficulty for the proof of work\n",
    "        if chain is None or len(chain) == 0: #If chain is empty create one with a genesis block\n",
    "            self.chain = [Block.create_genesis_block()]\n",
    "        else:\n",
    "            self.chain = chain\n",
    "\n",
    "    def add_block(self, data): #Method ot add a single block\n",
    "        last_block = self.chain[-1] #select the last block of the chain\n",
    "        new_block = Block(last_block.hash, data, datetime.datetime.now(), self.difficulty) #Create the new block\n",
    "        self.chain.append(new_block) #Append the new block connecting it to the chain\n",
    "\n",
    "    #Validating method\n",
    "    def validate_chain(self):\n",
    "        #For loop who will go through every block in the chain\n",
    "        for i in range(1, len(self.chain)):\n",
    "            current_block = self.chain[i] #Select current i block\n",
    "            previous_block = self.chain[i - 1] #Take the previous block afterwards\n",
    "\n",
    "            #Chck if the current block's hash is the same as the calculated hash to ensure it hasn't been manipulated\n",
    "            if current_block.hash != current_block.get_hash():\n",
    "                print(f\"Block {i} has been tampered with!\")\n",
    "                return False\n",
    "\n",
    "            #Same logic with the previous block\n",
    "            if current_block.previous_block_hash != previous_block.hash:\n",
    "                print(f\"Block {i} has an invalid previous block hash!\")\n",
    "                return False\n",
    "\n",
    "            #Check if the hash starts with 4 zero's\n",
    "            if not current_block.hash.startswith(\"0\" * self.difficulty):\n",
    "                print(f\"Block {i} does not satisfy Proof of Work!\")\n",
    "                return False\n",
    "\n",
    "            #Simple bug fixing printing\n",
    "            print(f\"Block {i}\")\n",
    "\n",
    "        return True"
   ]
  },
  {
   "cell_type": "markdown",
   "id": "4dd7ccb8-a85c-4201-891e-40715df2ae3a",
   "metadata": {},
   "source": [
    "Simple block to test the validation method"
   ]
  },
  {
   "cell_type": "code",
   "execution_count": 6,
   "id": "637dfe39-40c2-40fd-8219-e7b805622e88",
   "metadata": {},
   "outputs": [
    {
     "name": "stdout",
     "output_type": "stream",
     "text": [
      "Block 1\n",
      "Block 2\n",
      "Block 3\n",
      "Block 4\n",
      "Block 5\n",
      "The blockchain is valid!\n"
     ]
    }
   ],
   "source": [
    "my_blockchain = Blockchain(chain=block_chain) #Set the blocks I've created into the blockchain clas\n",
    "\n",
    "is_valid = my_blockchain.validate_chain() #Call the validation method\n",
    "\n",
    "#Simple bug fixing prints\n",
    "if is_valid:\n",
    "    print(\"The blockchain is valid!\")\n",
    "else:\n",
    "    print(\"The blockchain is invalid!\")"
   ]
  }
 ],
 "metadata": {
  "kernelspec": {
   "display_name": "Python 3 (ipykernel)",
   "language": "python",
   "name": "python3"
  },
  "language_info": {
   "codemirror_mode": {
    "name": "ipython",
    "version": 3
   },
   "file_extension": ".py",
   "mimetype": "text/x-python",
   "name": "python",
   "nbconvert_exporter": "python",
   "pygments_lexer": "ipython3",
   "version": "3.11.4"
  }
 },
 "nbformat": 4,
 "nbformat_minor": 5
}
