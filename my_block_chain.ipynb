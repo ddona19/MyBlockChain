{
 "cells": [
  {
   "cell_type": "markdown",
   "id": "06ab5d13-36d4-4b3d-a1c9-e9b953084cd6",
   "metadata": {},
   "source": [
    "# Integrated Labs Assignment: Simple Blockchain Implementation"
   ]
  },
  {
   "cell_type": "code",
   "execution_count": 1,
   "id": "7e883a3f-6fd0-4dfd-b38d-d55661b72d90",
   "metadata": {},
   "outputs": [],
   "source": [
    "import hashlib\n",
    "import datetime"
   ]
  },
  {
   "cell_type": "code",
   "execution_count": 2,
   "id": "dc4bb3d5-7bf1-4c2e-9fea-1ef8562fa5c3",
   "metadata": {},
   "outputs": [],
   "source": [
    "class Block:\n",
    "    def __init__(self, previous_block_hash, data, timestamp):\n",
    "        self.previous_block_hash = previous_block_hash\n",
    "        self.data = data\n",
    "        self.timestamp = timestamp\n",
    "        self.hash = self.get_hash()\n",
    "\n",
    "    def create_genesis_block():\n",
    "        return Block(\"0\", \"0\", datetime.datetime.now())\n",
    "\n",
    "    def get_hash(self):\n",
    "        header_bin = (str(self.previous_block_hash) + str(self.data) + str(self.timestamp)).encode()\n",
    "\n",
    "        inner_hash = hashlib.sha256(header_bin).hexdigest().encode()\n",
    "        outer_hash = hashlib.sha256(inner_hash).hexdigest()\n",
    "        return outer_hash"
   ]
  },
  {
   "cell_type": "code",
   "execution_count": 6,
   "id": "5f5008db-a42e-41d5-87cd-fda2b817b188",
   "metadata": {},
   "outputs": [
    {
     "data": {
      "text/plain": [
       "'c64bb18f4f8fc9ed3ad5c39ebb2eafe880dc5c5dd562a5314ec6748bc54d968b'"
      ]
     },
     "execution_count": 6,
     "metadata": {},
     "output_type": "execute_result"
    }
   ],
   "source": [
    "b1 = Block.create_genesis_block()\n",
    "b1.hash"
   ]
  },
  {
   "cell_type": "code",
   "execution_count": 5,
   "id": "f67648fa-fd42-40c7-879c-c8fc47869db1",
   "metadata": {},
   "outputs": [
    {
     "name": "stdout",
     "output_type": "stream",
     "text": [
      "The Genesis Block has been created\n",
      "Hash: a6f94a30a5ce182f0490c911ef47538177938794b3cea4e677c49a86d3f162f9\n"
     ]
    }
   ],
   "source": [
    "block_chain = [Block.create_genesis_block()]\n",
    "\n",
    "print(\"The Genesis Block has been created\")\n",
    "print(\"Hash: %s\" % block_chain[-1].hash)"
   ]
  },
  {
   "cell_type": "code",
   "execution_count": 9,
   "id": "40f6b251-92d1-4618-aef3-01150d267fab",
   "metadata": {},
   "outputs": [
    {
     "name": "stdout",
     "output_type": "stream",
     "text": [
      "Block #1 has been created.\n",
      "Block #1 hash: b3230d8527059af1923af3e7cf5be47dad5c37d615338b6db43381382ddb5513\n",
      "Block #2 has been created.\n",
      "Block #2 hash: 875359d809033f502785f656a13f291561cba2fd23806c8775bbc576041fd0af\n",
      "Block #3 has been created.\n",
      "Block #3 hash: 945cb6e3ed9075a6893bb6e50be8b03ae9e9338ddcfb9b7bdb372e4d00c51d4f\n",
      "Block #4 has been created.\n",
      "Block #4 hash: 015b9d97f64bc9cd68f125390bc7c51fc936046569c8cdf09f5c35af55eab001\n",
      "Block #5 has been created.\n",
      "Block #5 hash: b8e0a04b8296018531378585df6c07d753e47645c2b9710775eee16eb175848c\n"
     ]
    }
   ],
   "source": [
    "#Adding 5 blocks\n",
    "\n",
    "num_blocks_to_add = 5\n",
    "\n",
    "for i in range(1, num_blocks_to_add+1):\n",
    "    block_chain.append(Block(block_chain[-1].hash, \"DATA!\", datetime.datetime.now()))\n",
    "\n",
    "    print(\"Block #%d has been created.\" % i)\n",
    "    print(\"Block #%d hash: %s\" % (i, block_chain[i].hash))"
   ]
  },
  {
   "cell_type": "code",
   "execution_count": null,
   "id": "f475eaa0-8a4f-479a-bc7f-a7b91e3aa3de",
   "metadata": {},
   "outputs": [],
   "source": []
  }
 ],
 "metadata": {
  "kernelspec": {
   "display_name": "Python 3 (ipykernel)",
   "language": "python",
   "name": "python3"
  },
  "language_info": {
   "codemirror_mode": {
    "name": "ipython",
    "version": 3
   },
   "file_extension": ".py",
   "mimetype": "text/x-python",
   "name": "python",
   "nbconvert_exporter": "python",
   "pygments_lexer": "ipython3",
   "version": "3.11.4"
  }
 },
 "nbformat": 4,
 "nbformat_minor": 5
}
